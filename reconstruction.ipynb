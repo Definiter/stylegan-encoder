{
 "cells": [
  {
   "cell_type": "code",
   "execution_count": 1,
   "metadata": {},
   "outputs": [],
   "source": [
    "import os\n",
    "import pickle\n",
    "import numpy as np\n",
    "import PIL.Image\n",
    "import dnnlib\n",
    "import dnnlib.tflib as tflib\n",
    "import config\n",
    "import tensorflow as tf\n",
    "import gzip\n",
    "from PIL import Image               \n",
    "from IPython.display import display\n",
    "from sklearn.linear_model import LogisticRegression, SGDClassifier, LinearRegression\n",
    "from sklearn.model_selection import StratifiedKFold, cross_val_score, train_test_split\n",
    "from sklearn.metrics import accuracy_score\n",
    "from encoder.generator_model import Generator\n",
    "import matplotlib.pylab as plt\n",
    "%matplotlib inline"
   ]
  },
  {
   "cell_type": "code",
   "execution_count": 2,
   "metadata": {},
   "outputs": [
    {
     "name": "stdout",
     "output_type": "stream",
     "text": [
      "WARNING:tensorflow:From /home/ubuntu/anaconda3/envs/tensorflow_p36/lib/python3.6/site-packages/tensorflow/python/framework/op_def_library.py:263: colocate_with (from tensorflow.python.framework.ops) is deprecated and will be removed in a future version.\n",
      "Instructions for updating:\n",
      "Colocations handled automatically by placer.\n"
     ]
    }
   ],
   "source": [
    "tflib.init_tf()\n",
    "url = 'https://drive.google.com/uc?id=1MEGjdvVpUsu1jB4zrXZN7Y4kBBOzizDQ' # karras2019stylegan-ffhq-1024x1024.pkl\n",
    "with dnnlib.util.open_url(url, cache_dir=config.cache_dir) as f:\n",
    "    _G, _D, Gs = pickle.load(f)"
   ]
  },
  {
   "cell_type": "code",
   "execution_count": 3,
   "metadata": {},
   "outputs": [],
   "source": [
    "# constants \n",
    "experiment_folder = './experiments/'\n",
    "w = h = 1024\n",
    "margin = 20\n",
    "fmt = dict(func=tflib.convert_images_to_uint8, nchw_to_nhwc=True)\n",
    "num = 20\n",
    "\n",
    "def generate_image(latent):  \n",
    "    if latent_type == 'qlatent': # qlatent: (None, 512)\n",
    "        return Gs.run(latent, input_transform=None, randomize_noise=False, output_transform=fmt)\n",
    "    elif latent_type == 'dlatent': # dlatent: (None, 512)\n",
    "        return Gs.components.synthesis.run(np.repeat(np.expand_dims(latent, axis=1), 18, axis=1), input_transform=None, randomize_noise=False, output_transform=fmt)\n",
    "    elif latent_type == 'dlatent18': # dlatent18: (None, 18, 512)\n",
    "        return Gs.components.synthesis.run(latent, input_transform=None, randomize_noise=False, output_transform=fmt)\n",
    "    else:\n",
    "        assert 0"
   ]
  },
  {
   "cell_type": "code",
   "execution_count": 30,
   "metadata": {
    "scrolled": false
   },
   "outputs": [],
   "source": [
    "\n",
    "\n",
    "np.random.seed(2)\n",
    "\n",
    "for i in range(num):\n",
    "    z = np.random.randn(1, Gs.input_shape[1])\n",
    "    w18 = Gs.components.mapping.run(z, None)\n",
    "    w = w18[:, 0, :]\n",
    "#     img = Gs.run(z, input_transform=None, randomize_noise=False, output_transform=fmt)\n",
    "    img = Gs.components.synthesis.run(w18, input_transform=None, randomize_noise=False, output_transform=fmt)[0]\n",
    "    np.save('experiments/reconstruction/z/{}.npy'.format(i), z)\n",
    "    np.save('experiments/reconstruction/w/{}.npy'.format(i), w)\n",
    "    np.save('experiments/reconstruction/w18/{}.npy'.format(i), w18)\n",
    "    Image.fromarray(img).save('experiments/reconstruction/images/{}.png'.format(i))"
   ]
  },
  {
   "cell_type": "code",
   "execution_count": 10,
   "metadata": {},
   "outputs": [
    {
     "name": "stdout",
     "output_type": "stream",
     "text": [
      "1.328345139148539\n"
     ]
    }
   ],
   "source": [
    "# L2 + z\n",
    "diff = []\n",
    "for i in range(num):\n",
    "    z = np.load('experiments/reconstruction/z/{}.npy'.format(i))\n",
    "    z_recon = np.load('experiments/reconstruction/L2_z/{}.png.npy'.format(i))\n",
    "    diff.append(np.sum(np.abs(z - z_recon)) / 512)\n",
    "print(np.mean(diff))\n"
   ]
  },
  {
   "cell_type": "code",
   "execution_count": 11,
   "metadata": {},
   "outputs": [
    {
     "name": "stdout",
     "output_type": "stream",
     "text": [
      "0.387285315990448\n"
     ]
    }
   ],
   "source": [
    "# Perceptual + w\n",
    "diff = []\n",
    "for i in range(num):\n",
    "    w = np.load('experiments/reconstruction/w/{}.npy'.format(i))\n",
    "    w_recon = np.load('experiments/reconstruction/perceptual_w/{}.npy'.format(i))\n",
    "    diff.append(np.sum(np.abs(w - w_recon)) / 512)\n",
    "print(np.mean(diff))"
   ]
  },
  {
   "cell_type": "code",
   "execution_count": 13,
   "metadata": {},
   "outputs": [
    {
     "name": "stdout",
     "output_type": "stream",
     "text": [
      "0.24355823596318565\n"
     ]
    }
   ],
   "source": [
    "# Perceptual + L2 + w18\n",
    "diff = []\n",
    "for i in range(num):\n",
    "    w18 = np.load('experiments/reconstruction/w/{}.npy'.format(i))\n",
    "    w18_recon = np.load('experiments/reconstruction/perceptual_L2_w18/{}.npy'.format(i))\n",
    "    diff.append(np.sum(np.abs(w18 - w18_recon)) / (512 * 18))\n",
    "print(np.mean(diff))\n"
   ]
  },
  {
   "cell_type": "code",
   "execution_count": 12,
   "metadata": {},
   "outputs": [
    {
     "name": "stdout",
     "output_type": "stream",
     "text": [
      "0.24163186417685617\n"
     ]
    }
   ],
   "source": [
    "# Perceptual + w18\n",
    "diff = []\n",
    "for i in range(num):\n",
    "    w18 = np.load('experiments/reconstruction/w/{}.npy'.format(i))\n",
    "    w18_recon = np.load('experiments/reconstruction/perceptual_w18/{}.npy'.format(i))\n",
    "    diff.append(np.sum(np.abs(w18 - w18_recon)) / (512 * 18))\n",
    "print(np.mean(diff))"
   ]
  },
  {
   "cell_type": "code",
   "execution_count": null,
   "metadata": {},
   "outputs": [],
   "source": []
  }
 ],
 "metadata": {
  "kernelspec": {
   "display_name": "Environment (conda_tensorflow_p36)",
   "language": "python",
   "name": "conda_tensorflow_p36"
  },
  "language_info": {
   "codemirror_mode": {
    "name": "ipython",
    "version": 3
   },
   "file_extension": ".py",
   "mimetype": "text/x-python",
   "name": "python",
   "nbconvert_exporter": "python",
   "pygments_lexer": "ipython3",
   "version": "3.6.5"
  }
 },
 "nbformat": 4,
 "nbformat_minor": 2
}
